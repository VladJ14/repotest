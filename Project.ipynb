{
  "metadata": {
    "language_info": {
      "codemirror_mode": {
        "name": "python",
        "version": 3
      },
      "file_extension": ".py",
      "mimetype": "text/x-python",
      "name": "python",
      "nbconvert_exporter": "python",
      "pygments_lexer": "ipython3",
      "version": "3.8"
    },
    "kernelspec": {
      "name": "python",
      "display_name": "Pyolite",
      "language": "python"
    }
  },
  "nbformat_minor": 4,
  "nbformat": 4,
  "cells": [
    {
      "cell_type": "markdown",
      "source": "# My Jupyter Notebook on IBM Watson Studio",
      "metadata": {}
    },
    {
      "cell_type": "markdown",
      "source": "**Vladimir Tapia**\nData Scientist",
      "metadata": {}
    },
    {
      "cell_type": "markdown",
      "source": "*I'm interested in data science because it is useful and brings advantages for many applications and sectors. I studied industrial engineering, and I was able to observe the importance of data science in any type of industry.*",
      "metadata": {}
    },
    {
      "cell_type": "markdown",
      "source": "### The following code gives the result of the multiplication of two numbers x=2 and y=3.",
      "metadata": {}
    },
    {
      "cell_type": "code",
      "source": "x = 2\ny = 3\nprint ( x * y )",
      "metadata": {
        "tags": [],
        "trusted": true
      },
      "execution_count": null,
      "outputs": []
    },
    {
      "cell_type": "markdown",
      "source": "There´s differents types of browsers for example:\n* [Google](https://www.google.com)\n* [Bing](https://www.bing.com)\n* [DuckDuckGo](https://duckduckgo.com)\n***\nBrowsers where anyone can find different types of resources like web pages, images, videos, and others. For example a logo:\n![alt text][logo]\n\n[logo]: https://st2.depositphotos.com/1024516/7327/v/450/depositphotos_73275143-stock-illustration-vector-logo-for-letter-v.jpg",
      "metadata": {}
    },
    {
      "cell_type": "code",
      "source": "",
      "metadata": {},
      "execution_count": null,
      "outputs": []
    }
  ]
}